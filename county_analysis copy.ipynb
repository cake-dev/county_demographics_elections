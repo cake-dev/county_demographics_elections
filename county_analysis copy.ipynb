{
 "cells": [
  {
   "cell_type": "code",
   "execution_count": null,
   "metadata": {},
   "outputs": [],
   "source": [
    "import pandas as pd\n",
    "import numpy as np\n",
    "import matplotlib.pyplot as plt\n",
    "import geopandas as gpd\n",
    "\n",
    "pd.set_option('display.max_columns', None)"
   ]
  },
  {
   "cell_type": "code",
   "execution_count": null,
   "metadata": {},
   "outputs": [],
   "source": [
    "# read the county election data\n",
    "df = gpd.read_file('data/election/final_data/county_data_with_elections_2012_2016_2020_census_MAIN.geojson')\n",
    "df_2012 = gpd.read_file('data/election/final_data/county_data_with_elections_2012_census_MAIN.geojson')\n",
    "df_2016 = gpd.read_file('data/election/final_data/county_data_with_elections_2016_census_MAIN.geojson')\n",
    "df_2020 = gpd.read_file('data/election/final_data/county_data_with_elections_2020_census_MAIN.geojson')"
   ]
  },
  {
   "cell_type": "code",
   "execution_count": null,
   "metadata": {},
   "outputs": [],
   "source": [
    "# remove commas from the values in all columns\n",
    "df = df.replace({',': ''}, regex=True)\n",
    "df_2012 = df_2012.replace({',': ''}, regex=True)\n",
    "df_2016 = df_2016.replace({',': ''}, regex=True)\n",
    "df_2020 = df_2020.replace({',': ''}, regex=True)"
   ]
  },
  {
   "cell_type": "code",
   "execution_count": null,
   "metadata": {},
   "outputs": [],
   "source": [
    "def convert_to_number(col):\n",
    "    try:\n",
    "        return pd.to_numeric(col)\n",
    "    except:\n",
    "        return col\n",
    "    \n",
    "df = df.apply(convert_to_number)\n",
    "df_2012 = df_2012.apply(convert_to_number)\n",
    "df_2016 = df_2016.apply(convert_to_number)\n",
    "df_2020 = df_2020.apply(convert_to_number)"
   ]
  },
  {
   "cell_type": "code",
   "execution_count": null,
   "metadata": {},
   "outputs": [],
   "source": [
    "# save the dfs back to geojson\n",
    "df.to_file('data/election/final_data/county_data_with_elections_2012_2016_2020_census_MAIN.geojson', driver='GeoJSON')\n",
    "df_2012.to_file('data/election/final_data/county_data_with_elections_2012_census_MAIN.geojson', driver='GeoJSON')\n",
    "df_2016.to_file('data/election/final_data/county_data_with_elections_2016_census_MAIN.geojson', driver='GeoJSON')\n",
    "df_2020.to_file('data/election/final_data/county_data_with_elections_2020_census_MAIN.geojson', driver='GeoJSON')"
   ]
  },
  {
   "cell_type": "code",
   "execution_count": null,
   "metadata": {},
   "outputs": [],
   "source": [
    "elections_demographics_data = df.drop(columns=['geometry'])\n",
    "elections_demographics_data_2012 = df_2012.drop(columns=['geometry'])\n",
    "elections_demographics_data_2016 = df_2016.drop(columns=['geometry'])\n",
    "elections_demographics_data_2020 = df_2020.drop(columns=['geometry'])"
   ]
  },
  {
   "cell_type": "code",
   "execution_count": null,
   "metadata": {},
   "outputs": [],
   "source": [
    "elections_demographics_data = pd.DataFrame(elections_demographics_data)\n",
    "elections_demographics_data_2012 = pd.DataFrame(elections_demographics_data_2012)\n",
    "elections_demographics_data_2016 = pd.DataFrame(elections_demographics_data_2016)\n",
    "elections_demographics_data_2020 = pd.DataFrame(elections_demographics_data_2020)"
   ]
  },
  {
   "cell_type": "code",
   "execution_count": null,
   "metadata": {},
   "outputs": [],
   "source": [
    "elections_demographics_data"
   ]
  },
  {
   "cell_type": "code",
   "execution_count": null,
   "metadata": {},
   "outputs": [],
   "source": [
    "for col in elections_demographics_data.columns:\n",
    "    if not np.issubdtype(elections_demographics_data[col].dtype, np.number):\n",
    "        print(col)"
   ]
  },
  {
   "cell_type": "code",
   "execution_count": null,
   "metadata": {},
   "outputs": [],
   "source": [
    "# create a new df from election_demographics_data with only the columns that have dates 2016 and before in the column name (2012, 2016, 2000, 2001, '2008-12', etc)\n",
    "elections_demographics_data_2016_and_before = elections_demographics_data[[col for col in elections_demographics_data.columns if '2000' in col or '2001' in col or '2002' in col or '2003' in col or '2004' in col or '2005' in col or '2006' in col or '2007' in col or '2008' in col or '2009' in col or '2010' in col or '2011' in col or '2012' in col or '2013' in col or '2014' in col or '2015' in col or '2016' in col or '2008-12' in col]]"
   ]
  },
  {
   "cell_type": "code",
   "execution_count": null,
   "metadata": {},
   "outputs": [],
   "source": [
    "elections_demographics_data_2016_and_before.winner_2016"
   ]
  },
  {
   "cell_type": "code",
   "execution_count": null,
   "metadata": {},
   "outputs": [],
   "source": [
    "# show valuecounts of column dtypes\n",
    "elections_demographics_data_2016_and_before.dtypes.value_counts()"
   ]
  },
  {
   "cell_type": "code",
   "execution_count": null,
   "metadata": {},
   "outputs": [],
   "source": [
    "# drop Child dependency ratio_total_2012\n",
    "elections_demographics_data_2016_and_before = elections_demographics_data_2016_and_before.drop(columns=['Child dependency ratio_total_2012'])"
   ]
  },
  {
   "cell_type": "code",
   "execution_count": null,
   "metadata": {},
   "outputs": [],
   "source": [
    "# scale the data\n",
    "from sklearn.preprocessing import MinMaxScaler\n",
    "\n",
    "scaler = MinMaxScaler()\n",
    "numeric_cols = elections_demographics_data_2016_and_before.select_dtypes(include=[np.number]).columns\n",
    "elections_demographics_data_2016_and_before[numeric_cols] = scaler.fit_transform(elections_demographics_data_2016_and_before[numeric_cols])"
   ]
  },
  {
   "cell_type": "code",
   "execution_count": null,
   "metadata": {},
   "outputs": [],
   "source": [
    "# drop per_point_diff_2016\n",
    "elections_demographics_data_2016_and_before = elections_demographics_data_2016_and_before.drop(columns=['per_point_diff_2016'])"
   ]
  },
  {
   "cell_type": "code",
   "execution_count": null,
   "metadata": {},
   "outputs": [],
   "source": [
    "# encode winner_2012 and winner_2016 with GOP = 0 and DEM = 1\n",
    "elections_demographics_data_2016_and_before['winner_2012'] = elections_demographics_data_2016_and_before['winner_2012'].replace({'GOP': 0, 'DEM': 1})\n",
    "elections_demographics_data_2016_and_before['winner_2016'] = elections_demographics_data_2016_and_before['winner_2016'].replace({'GOP': 0, 'DEM': 1})"
   ]
  },
  {
   "cell_type": "code",
   "execution_count": null,
   "metadata": {},
   "outputs": [],
   "source": [
    "pd.set_option('display.max_rows', 1000)"
   ]
  },
  {
   "cell_type": "code",
   "execution_count": null,
   "metadata": {},
   "outputs": [],
   "source": [
    "# find what values contribute the most to the winner_2016 column\n",
    "elections_demographics_data_2016_and_before.corr()['winner_2016'].sort_values(ascending=False)"
   ]
  },
  {
   "cell_type": "code",
   "execution_count": null,
   "metadata": {},
   "outputs": [],
   "source": [
    "# drop all rows with missing values\n",
    "elections_demographics_data_2016_and_before = elections_demographics_data_2016_and_before.dropna()"
   ]
  },
  {
   "cell_type": "code",
   "execution_count": null,
   "metadata": {},
   "outputs": [],
   "source": [
    "# create columns called win_gop_2012 and win_gop_2016 and win_dem_2012 and win_dem_2016 that are 1 if the GOP or DEM won in 2012 or 2016 and 0 otherwise\n",
    "elections_demographics_data_2016_and_before['win_gop_2012'] = elections_demographics_data_2016_and_before['winner_2012'].apply(lambda x: 1 if x == 0 else 0)\n",
    "elections_demographics_data_2016_and_before['win_gop_2016'] = elections_demographics_data_2016_and_before['winner_2016'].apply(lambda x: 1 if x == 0 else 0)\n",
    "elections_demographics_data_2016_and_before['win_dem_2012'] = elections_demographics_data_2016_and_before['winner_2012'].apply(lambda x: 1 if x == 1 else 0)\n",
    "elections_demographics_data_2016_and_before['win_dem_2016'] = elections_demographics_data_2016_and_before['winner_2016'].apply(lambda x: 1 if x == 1 else 0)"
   ]
  },
  {
   "cell_type": "code",
   "execution_count": null,
   "metadata": {},
   "outputs": [],
   "source": [
    "# perform a random forest classifier on the data to see which columns are the most important in predicting the win_gop_2016 column\n",
    "from sklearn.ensemble import RandomForestClassifier\n",
    "from sklearn.model_selection import train_test_split\n",
    "\n",
    "X = elections_demographics_data_2016_and_before.drop(columns=['winner_2012', 'winner_2016', 'win_gop_2012', 'win_gop_2016', 'win_dem_2012', 'win_dem_2016', 'per_gop_2012', 'per_gop_2016', 'per_dem_2012', 'per_dem_2016', 'votes_gop_2012', 'votes_gop_2016', 'votes_dem_2012', 'votes_dem_2016', 'per_point_diff_2012'])\n",
    "y = elections_demographics_data_2016_and_before['winner_2016']\n",
    "\n",
    "X_train, X_test, y_train, y_test = train_test_split(X, y, test_size=0.3, random_state=42)\n",
    "\n",
    "rf = RandomForestClassifier()\n",
    "rf.fit(X_train, y_train)\n",
    "\n",
    "# print accuracy\n",
    "print(rf.score(X_test, y_test))\n",
    "\n",
    "importances = rf.feature_importances_\n",
    "indices = np.argsort(importances)[::-1]\n",
    "\n",
    "# Print the feature ranking formatted so the numbers are all aligned\n",
    "print(\"Feature ranking:\")\n",
    "for f in range(X.shape[1]):\n",
    "    print(\"%d. %s (%f)\" % (f + 1, X.columns[indices[f]], importances[indices[f]]))"
   ]
  },
  {
   "cell_type": "code",
   "execution_count": null,
   "metadata": {},
   "outputs": [],
   "source": [
    "from sklearn.tree import export_graphviz\n",
    "\n",
    "# Export as dot file\n",
    "export_graphviz(rf.estimators_[0], out_file='tree.dot', \n",
    "                feature_names = X.columns,\n",
    "                class_names = ['GOP', 'DEM'],\n",
    "                rounded = True, proportion = False, \n",
    "                precision = 2, filled = True)\n",
    "\n",
    "# Convert to png using system command (requires Graphviz)\n",
    "from subprocess import call\n",
    "call(['dot', '-Tpng', 'tree.dot', '-o', 'tree.png', '-Gdpi=600'])"
   ]
  },
  {
   "cell_type": "code",
   "execution_count": null,
   "metadata": {},
   "outputs": [],
   "source": [
    "# gridsearch tuning and cross validation\n",
    "from sklearn.model_selection import GridSearchCV\n",
    "from sklearn.metrics import accuracy_score\n",
    "\n",
    "param_grid = {\n",
    "    'n_estimators': [100, 200, 300],\n",
    "    'max_depth': [10, 20, 30, 40, 50]\n",
    "}\n",
    "\n",
    "rf = RandomForestClassifier()\n",
    "grid_search = GridSearchCV(estimator=rf, param_grid=param_grid, cv=3, n_jobs=-1, verbose=2)\n",
    "grid_search.fit(X_train, y_train)\n",
    "\n",
    "# print the best parameters\n",
    "print(grid_search.best_params_)\n",
    "\n",
    "# print the best score\n",
    "print(grid_search.best_score_)\n",
    "\n",
    "# print the accuracy of the model\n",
    "y_pred = grid_search.predict(X_test)\n",
    "accuracy = accuracy_score(y_test, y_pred)\n",
    "print(accuracy)"
   ]
  }
 ],
 "metadata": {
  "kernelspec": {
   "display_name": "aispace",
   "language": "python",
   "name": "python3"
  },
  "language_info": {
   "codemirror_mode": {
    "name": "ipython",
    "version": 3
   },
   "file_extension": ".py",
   "mimetype": "text/x-python",
   "name": "python",
   "nbconvert_exporter": "python",
   "pygments_lexer": "ipython3",
   "version": "3.11.4"
  }
 },
 "nbformat": 4,
 "nbformat_minor": 2
}
